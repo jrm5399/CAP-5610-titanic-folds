{
 "cells": [
  {
   "cell_type": "code",
   "execution_count": 44,
   "metadata": {},
   "outputs": [],
   "source": [
    "#library imports\n",
    "import numpy as np\n",
    "import pandas as pd\n",
    "import matplotlib.pyplot as plt\n",
    "from sklearn import svm\n",
    "from sklearn.model_selection import train_test_split"
   ]
  },
  {
   "cell_type": "code",
   "execution_count": 45,
   "metadata": {},
   "outputs": [],
   "source": [
    "#importing data\n",
    "train = pd.read_csv(\"train.csv\")"
   ]
  },
  {
   "cell_type": "code",
   "execution_count": 46,
   "metadata": {},
   "outputs": [
    {
     "name": "stderr",
     "output_type": "stream",
     "text": [
      "c:\\users\\john murphy\\appdata\\local\\programs\\python\\python37\\lib\\site-packages\\ipykernel_launcher.py:5: SettingWithCopyWarning: \n",
      "A value is trying to be set on a copy of a slice from a DataFrame.\n",
      "Try using .loc[row_indexer,col_indexer] = value instead\n",
      "\n",
      "See the caveats in the documentation: https://pandas.pydata.org/pandas-docs/stable/user_guide/indexing.html#returning-a-view-versus-a-copy\n",
      "  \"\"\"\n",
      "c:\\users\\john murphy\\appdata\\local\\programs\\python\\python37\\lib\\site-packages\\ipykernel_launcher.py:8: SettingWithCopyWarning: \n",
      "A value is trying to be set on a copy of a slice from a DataFrame.\n",
      "Try using .loc[row_indexer,col_indexer] = value instead\n",
      "\n",
      "See the caveats in the documentation: https://pandas.pydata.org/pandas-docs/stable/user_guide/indexing.html#returning-a-view-versus-a-copy\n",
      "  \n",
      "c:\\users\\john murphy\\appdata\\local\\programs\\python\\python37\\lib\\site-packages\\ipykernel_launcher.py:11: SettingWithCopyWarning: \n",
      "A value is trying to be set on a copy of a slice from a DataFrame.\n",
      "Try using .loc[row_indexer,col_indexer] = value instead\n",
      "\n",
      "See the caveats in the documentation: https://pandas.pydata.org/pandas-docs/stable/user_guide/indexing.html#returning-a-view-versus-a-copy\n",
      "  # This is added back by InteractiveShellApp.init_path()\n"
     ]
    }
   ],
   "source": [
    "#Data Preparation\n",
    "data = train[['Pclass', 'Sex', 'Age', 'Fare']]\n",
    "\n",
    "#convert women and men to 1's and 0's\n",
    "data['Sex'] = data['Sex'].map({'female': 1, 'male': 0})\n",
    "\n",
    "#take out NULL in Age\n",
    "data['Age'] = data['Age'].fillna(30)\n",
    "\n",
    "#take out NULL in Embarked\n",
    "data['Fare'] = data['Fare'].fillna(8.05)\n",
    "\n",
    "X = data[['Pclass', 'Sex', 'Age', 'Fare']]\n",
    "Y = train['Survived']"
   ]
  },
  {
   "cell_type": "code",
   "execution_count": 47,
   "metadata": {},
   "outputs": [
    {
     "name": "stdout",
     "output_type": "stream",
     "text": [
      "[0.80446927 0.80337079 0.78651685 0.75280899 0.78651685]\n"
     ]
    }
   ],
   "source": [
    "#Linear\n",
    "linear_model = svm.SVC(kernel = 'linear')\n",
    "linear_model.fit(X, Y)\n",
    "linear_folds = sklearn.model_selection.cross_val_score(linear_model, X, Y, cv = 5, scoring= 'accuracy')\n",
    "print(linear_folds)"
   ]
  },
  {
   "cell_type": "code",
   "execution_count": 48,
   "metadata": {},
   "outputs": [
    {
     "name": "stdout",
     "output_type": "stream",
     "text": [
      "[0.60335196 0.70786517 0.65730337 0.66292135 0.68539326]\n"
     ]
    }
   ],
   "source": [
    "#Quadratic\n",
    "quad_model = svm.SVC(kernel = 'poly', degree = 2)\n",
    "quad_model.fit(X, Y)\n",
    "quad_folds = sklearn.model_selection.cross_val_score(quad_model, X, Y, cv = 5, scoring= 'accuracy')\n",
    "print(quad_folds)"
   ]
  },
  {
   "cell_type": "code",
   "execution_count": 49,
   "metadata": {},
   "outputs": [
    {
     "name": "stdout",
     "output_type": "stream",
     "text": [
      "[0.5698324  0.71348315 0.69101124 0.68539326 0.69101124]\n"
     ]
    }
   ],
   "source": [
    "#RBF\n",
    "RBF_model = svm.SVC(kernel = 'rbf')\n",
    "RBF_model.fit(X, Y)\n",
    "RBF_folds = sklearn.model_selection.cross_val_score(RBF_model, X, Y, cv = 5, scoring= 'accuracy')\n",
    "print(RBF_folds)"
   ]
  },
  {
   "cell_type": "code",
   "execution_count": null,
   "metadata": {},
   "outputs": [],
   "source": []
  }
 ],
 "metadata": {
  "kernelspec": {
   "display_name": "Python 3",
   "language": "python",
   "name": "python3"
  },
  "language_info": {
   "codemirror_mode": {
    "name": "ipython",
    "version": 3
   },
   "file_extension": ".py",
   "mimetype": "text/x-python",
   "name": "python",
   "nbconvert_exporter": "python",
   "pygments_lexer": "ipython3",
   "version": "3.7.3"
  }
 },
 "nbformat": 4,
 "nbformat_minor": 4
}
